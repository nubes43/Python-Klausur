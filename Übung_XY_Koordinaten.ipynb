{
 "cells": [
  {
   "cell_type": "markdown",
   "id": "f62df25f-8ef7-439c-80ed-89afa389d1e8",
   "metadata": {},
   "source": [
    "# Übung - Einlesen und Arbeit mit X-Y- Koordinaten"
   ]
  },
  {
   "cell_type": "markdown",
   "id": "d76673be-c4fb-493e-a318-3071593f25fa",
   "metadata": {},
   "source": [
    "1. Schreiben Sie eine Funktion, die die Werte aus der Datei `coords.txt` in zwei\n",
    "   Listen mit Zahlen einliest. \n",
    "   Das ist der Inhalt von `coords.txt`:"
   ]
  },
  {
   "cell_type": "code",
   "execution_count": 1,
   "id": "4fb928d1-990c-4cf7-9ac7-5a5dad3ccb51",
   "metadata": {},
   "outputs": [
    {
     "data": {
      "text/plain": [
       "X, Y\n",
       "0.07330604878866975, 0.8014226821067756\n",
       "0.1661575819631842, 1.800580523229894\n",
       "0.6995403090391857, 2.9428426511704133\n",
       "3.739693717843958, 3.273789345607889\n",
       "4.6548452940121825, 3.2432474181215083\n",
       "5.800609928703754, 2.2899099772482145\n",
       "2.8739261867333927, 6.851536185480562\n",
       "7.213831740018356, 6.9884182899511025\n",
       "5.326744862838446, 2.47894007512006\n",
       "6.4738431697340655, 8.064819056138258\n",
       "9.391058372638053, 4.65542320269743\n",
       "1.6948694982714723, 3.5560225045761187\n",
       "1.5140093076206513, 3.1884934811256436\n",
       "4.430058552698293, 2.25747312715163\n",
       "10.852231279914546, 3.781204549788254\n",
       "0.8270875691175572, 2.845477430116926\n",
       "2.751993939849164, 15.630578767457608\n",
       "0.950355329431521, 15.883654177194524\n",
       "3.2673577026468132, 17.848028970597163\n",
       "15.357127440374532, 12.3861418864545\n"
      ]
     },
     "metadata": {},
     "output_type": "display_data"
    }
   ],
   "source": [
    "%less coords.txt"
   ]
  },
  {
   "cell_type": "code",
   "execution_count": 2,
   "id": "1c402050-1c82-4f9c-a0ba-7b431b41ab3f",
   "metadata": {},
   "outputs": [
    {
     "name": "stdout",
     "output_type": "stream",
     "text": [
      "coords.txt  Übung_XY_Koordinaten.ipynb\n"
     ]
    }
   ],
   "source": [
    "%ls"
   ]
  },
  {
   "cell_type": "code",
   "execution_count": 3,
   "id": "a2eb2e16-3b9d-44a2-8951-f0091765f582",
   "metadata": {},
   "outputs": [],
   "source": [
    "with open('coords.txt') as fobj:\n",
    "    lines = fobj.readlines()"
   ]
  },
  {
   "cell_type": "code",
   "execution_count": 4,
   "id": "b7a14482-004f-4736-b40b-0129e78d77fe",
   "metadata": {},
   "outputs": [],
   "source": [
    "file = open('coords.txt','r')\n",
    "X = []\n",
    "Y = []\n",
    "file.readline()\n",
    "for row in file:\n",
    "    sp = row.split(\",\")\n",
    "    X.append(sp[0])\n",
    "    Y.append(sp[1])"
   ]
  },
  {
   "cell_type": "code",
   "execution_count": 5,
   "id": "92f896b7-d419-4179-8b46-17a84a0f7d73",
   "metadata": {},
   "outputs": [
    {
     "data": {
      "text/plain": [
       "[' 0.8014226821067756\\n',\n",
       " ' 1.800580523229894\\n',\n",
       " ' 2.9428426511704133\\n',\n",
       " ' 3.273789345607889\\n',\n",
       " ' 3.2432474181215083\\n',\n",
       " ' 2.2899099772482145\\n',\n",
       " ' 6.851536185480562\\n',\n",
       " ' 6.9884182899511025\\n',\n",
       " ' 2.47894007512006\\n',\n",
       " ' 8.064819056138258\\n',\n",
       " ' 4.65542320269743\\n',\n",
       " ' 3.5560225045761187\\n',\n",
       " ' 3.1884934811256436\\n',\n",
       " ' 2.25747312715163\\n',\n",
       " ' 3.781204549788254\\n',\n",
       " ' 2.845477430116926\\n',\n",
       " ' 15.630578767457608\\n',\n",
       " ' 15.883654177194524\\n',\n",
       " ' 17.848028970597163\\n',\n",
       " ' 12.3861418864545\\n']"
      ]
     },
     "execution_count": 5,
     "metadata": {},
     "output_type": "execute_result"
    }
   ],
   "source": [
    "Y"
   ]
  },
  {
   "cell_type": "code",
   "execution_count": 6,
   "id": "79713f98-76b5-48f5-9669-8588caa11bea",
   "metadata": {},
   "outputs": [
    {
     "name": "stdout",
     "output_type": "stream",
     "text": [
      "['0.07330604878866975', '0.1661575819631842', '0.6995403090391857', '3.739693717843958', '4.6548452940121825', '5.800609928703754', '2.8739261867333927', '7.213831740018356', '5.326744862838446', '6.4738431697340655', '9.391058372638053', '1.6948694982714723', '1.5140093076206513', '4.430058552698293', '10.852231279914546', '0.8270875691175572', '2.751993939849164', '0.950355329431521', '3.2673577026468132', '15.357127440374532']\n",
      "[' 0.8014226821067756', ' 1.800580523229894', ' 2.9428426511704133', ' 3.273789345607889', ' 3.2432474181215083', ' 2.2899099772482145', ' 6.851536185480562', ' 6.9884182899511025', ' 2.47894007512006', ' 8.064819056138258', ' 4.65542320269743', ' 3.5560225045761187', ' 3.1884934811256436', ' 2.25747312715163', ' 3.781204549788254', ' 2.845477430116926', ' 15.630578767457608', ' 15.883654177194524', ' 17.848028970597163', ' 12.3861418864545']\n"
     ]
    }
   ],
   "source": [
    "import csv\n",
    "xs = []\n",
    "ys = []\n",
    "with open('coords.txt', newline=\"\\n\") as coordsfile:\n",
    "    next(coordsfile)\n",
    "    coords = csv.reader(coordsfile)\n",
    "    for row in coords:\n",
    "        xs.append(row[0])\n",
    "        ys.append(row[1])\n",
    "    \n",
    "print(xs)\n",
    "print(ys)"
   ]
  },
  {
   "cell_type": "code",
   "execution_count": 7,
   "id": "3a7fced0-f123-4d1b-a58f-597b5138f807",
   "metadata": {},
   "outputs": [],
   "source": [
    "fname = 'coords.txt'\n",
    "xs = []\n",
    "ys = []\n",
    "with open(fname) as fobj:\n",
    "    next(fobj)\n",
    "    for line in fobj:\n",
    "        x, y = line.split(',')\n",
    "        xs.append(float(x))\n",
    "        ys.append(float(y))"
   ]
  },
  {
   "cell_type": "code",
   "execution_count": 8,
   "id": "4334be04-248a-483b-bba6-7b0214e501c8",
   "metadata": {},
   "outputs": [],
   "source": [
    "def read_coords(file_name):\n",
    "    \"\"\"Read csv file with X and Y coordinates.\n",
    "    \n",
    "    Returns list of floats for X and Y.\"\"\"\n",
    "    xs = []\n",
    "    ys = []\n",
    "    with open(file_name) as fobj:\n",
    "        next(fobj)\n",
    "        for line in fobj:\n",
    "            x, y, *_ = line.split(',')\n",
    "            xs.append(float(x))\n",
    "            ys.append(float(y))\n",
    "    return xs, ys\n",
    "        \n",
    "xs, ys = read_coords('coords.txt')"
   ]
  },
  {
   "cell_type": "code",
   "execution_count": 9,
   "id": "f11a8d1a-d01c-43a0-a533-7c88057c2488",
   "metadata": {},
   "outputs": [
    {
     "data": {
      "text/plain": [
       "\u001b[0;31mSignature:\u001b[0m \u001b[0mread_coords\u001b[0m\u001b[0;34m(\u001b[0m\u001b[0mfile_name\u001b[0m\u001b[0;34m)\u001b[0m\u001b[0;34m\u001b[0m\u001b[0;34m\u001b[0m\u001b[0m\n",
       "\u001b[0;31mDocstring:\u001b[0m\n",
       "Read csv file with X and Y coordinates.\n",
       "\n",
       "Returns list of floats for X and Y.\n",
       "\u001b[0;31mFile:\u001b[0m      /tmp/ipykernel_325954/4110430604.py\n",
       "\u001b[0;31mType:\u001b[0m      function\n"
      ]
     },
     "metadata": {},
     "output_type": "display_data"
    }
   ],
   "source": [
    "read_coords?"
   ]
  },
  {
   "cell_type": "code",
   "execution_count": 10,
   "id": "721f7215-39aa-431a-b1ae-e9d931118ec4",
   "metadata": {},
   "outputs": [
    {
     "data": {
      "text/plain": [
       "[0.07330604878866975,\n",
       " 0.1661575819631842,\n",
       " 0.6995403090391857,\n",
       " 3.739693717843958,\n",
       " 4.6548452940121825]"
      ]
     },
     "execution_count": 10,
     "metadata": {},
     "output_type": "execute_result"
    }
   ],
   "source": [
    "xs[:5]"
   ]
  },
  {
   "cell_type": "code",
   "execution_count": 11,
   "id": "cfda2fcd-6d97-4c69-b569-8a4a2eff9378",
   "metadata": {},
   "outputs": [
    {
     "data": {
      "text/plain": [
       "[0.8014226821067756,\n",
       " 1.800580523229894,\n",
       " 2.9428426511704133,\n",
       " 3.273789345607889,\n",
       " 3.2432474181215083]"
      ]
     },
     "execution_count": 11,
     "metadata": {},
     "output_type": "execute_result"
    }
   ],
   "source": [
    "ys[:5]"
   ]
  },
  {
   "cell_type": "markdown",
   "id": "1d47c206-8003-480c-b673-e501eea2bcda",
   "metadata": {},
   "source": [
    "Der Beginn der Liste mit den X-Werten soll so aussehen:"
   ]
  },
  {
   "cell_type": "code",
   "execution_count": 12,
   "id": "7e1c473b-2ba7-4a62-b196-4d61f224425f",
   "metadata": {},
   "outputs": [
    {
     "data": {
      "text/plain": [
       "[0.07330604878866975,\n",
       " 0.1661575819631842,\n",
       " 0.6995403090391857,\n",
       " 3.739693717843958,\n",
       " 4.6548452940121825]"
      ]
     },
     "execution_count": 12,
     "metadata": {},
     "output_type": "execute_result"
    }
   ],
   "source": [
    "xs[:5]"
   ]
  },
  {
   "cell_type": "markdown",
   "id": "6aae87e2-cf9a-44c3-96d1-4464199b1ba8",
   "metadata": {},
   "source": [
    "Der Beginn der Liste mit den y-Werten soll so aussehen:"
   ]
  },
  {
   "cell_type": "code",
   "execution_count": 13,
   "id": "4e78da06",
   "metadata": {},
   "outputs": [
    {
     "data": {
      "text/plain": [
       "[0.8014226821067756,\n",
       " 1.800580523229894,\n",
       " 2.9428426511704133,\n",
       " 3.273789345607889,\n",
       " 3.2432474181215083]"
      ]
     },
     "execution_count": 13,
     "metadata": {},
     "output_type": "execute_result"
    }
   ],
   "source": [
    "ys[:5]"
   ]
  },
  {
   "cell_type": "markdown",
   "id": "9458b08a-7746-4d4d-bc41-b8af1126fbfc",
   "metadata": {},
   "source": [
    "2. Schreiben Sie eine Funktion, die die Werte aus der Datei `coords.txt` in ein\n",
    "   Dictionary mit den Buchstaben in der ersten Zeile als Schlüssel und allen\n",
    "   Zahlen in je eine List als Werte einliest.\n",
    "   "
   ]
  },
  {
   "cell_type": "markdown",
   "id": "69cb72bb-1a23-4a45-92c5-c42f3bd90429",
   "metadata": {},
   "source": [
    "Returns dict of list of floats with `X` and `Y` as keys."
   ]
  },
  {
   "cell_type": "markdown",
   "metadata": {},
   "source": []
  },
  {
   "cell_type": "markdown",
   "id": "a02ecd65-0e4f-4553-80be-64bd1611a000",
   "metadata": {},
   "source": [
    "Das Ergebnis soll so aussehen:"
   ]
  },
  {
   "cell_type": "code",
   "execution_count": 2,
   "id": "78421514-b1a3-40ac-b9ff-316c18d45661",
   "metadata": {},
   "outputs": [],
   "source": [
    "def read_as_dict(file_name):\n",
    "    \"\"\"Read csv file with X and Y coordinates.\n",
    "    \n",
    "    Returns dict of lists with floats.\n",
    "    Keys are the names in first line.\n",
    "    \n",
    "    Example:\n",
    "    \n",
    "    file header: X, Y\n",
    "    result: {'X': [1.5, 2.5, 3.5], 'Y': [4.5, 5.5, 6.5]}    \n",
    "    \"\"\"\n",
    "    data = {}\n",
    "    with open(file_name) as fobj:\n",
    "        keys = [x.strip() for x in next(fobj).split(',')]\n",
    "        for key in keys:\n",
    "            data[key] = []\n",
    "        for line in fobj:\n",
    "            for key, value in zip(keys, line.split(',')):\n",
    "                data[key].append(float(value))\n",
    "    return data\n",
    "\n",
    "data = read_as_dict('coords.txt')"
   ]
  },
  {
   "cell_type": "code",
   "execution_count": 16,
   "id": "55d7c264-caa1-4e48-a36d-cb40926a5031",
   "metadata": {},
   "outputs": [
    {
     "ename": "NameError",
     "evalue": "name 'keys' is not defined",
     "output_type": "error",
     "traceback": [
      "\u001b[0;31m---------------------------------------------------------------------------\u001b[0m",
      "\u001b[0;31mNameError\u001b[0m                                 Traceback (most recent call last)",
      "\u001b[0;32m/tmp/ipykernel_325954/3396956383.py\u001b[0m in \u001b[0;36m<module>\u001b[0;34m\u001b[0m\n\u001b[0;32m----> 1\u001b[0;31m \u001b[0mkeys\u001b[0m\u001b[0;34m\u001b[0m\u001b[0;34m\u001b[0m\u001b[0m\n\u001b[0m",
      "\u001b[0;31mNameError\u001b[0m: name 'keys' is not defined"
     ]
    }
   ],
   "source": [
    "keys"
   ]
  },
  {
   "cell_type": "code",
   "execution_count": 3,
   "id": "c7cc6190-d67f-4cea-9ad4-1429f940075f",
   "metadata": {},
   "outputs": [
    {
     "data": {
      "text/plain": [
       "{'X': [0.07330604878866975,\n",
       "  0.1661575819631842,\n",
       "  0.6995403090391857,\n",
       "  3.739693717843958,\n",
       "  4.6548452940121825,\n",
       "  5.800609928703754,\n",
       "  2.8739261867333927,\n",
       "  7.213831740018356,\n",
       "  5.326744862838446,\n",
       "  6.4738431697340655,\n",
       "  9.391058372638053,\n",
       "  1.6948694982714723,\n",
       "  1.5140093076206513,\n",
       "  4.430058552698293,\n",
       "  10.852231279914546,\n",
       "  0.8270875691175572,\n",
       "  2.751993939849164,\n",
       "  0.950355329431521,\n",
       "  3.2673577026468132,\n",
       "  15.357127440374532],\n",
       " 'Y': [0.8014226821067756,\n",
       "  1.800580523229894,\n",
       "  2.9428426511704133,\n",
       "  3.273789345607889,\n",
       "  3.2432474181215083,\n",
       "  2.2899099772482145,\n",
       "  6.851536185480562,\n",
       "  6.9884182899511025,\n",
       "  2.47894007512006,\n",
       "  8.064819056138258,\n",
       "  4.65542320269743,\n",
       "  3.5560225045761187,\n",
       "  3.1884934811256436,\n",
       "  2.25747312715163,\n",
       "  3.781204549788254,\n",
       "  2.845477430116926,\n",
       "  15.630578767457608,\n",
       "  15.883654177194524,\n",
       "  17.848028970597163,\n",
       "  12.3861418864545]}"
      ]
     },
     "execution_count": 3,
     "metadata": {},
     "output_type": "execute_result"
    }
   ],
   "source": [
    "data"
   ]
  },
  {
   "cell_type": "markdown",
   "id": "04318bcb-f121-4d2f-960d-6bf72800b990",
   "metadata": {},
   "source": [
    "3. Schreiben Sie eine Funktion, die die beiden Summen der Werte der Spalten\n",
    "   X und Y ermittelt:\n",
    "   \n",
    "   \n",
    "(a) für die Daten in den beiden Listen aus Aufgabe 1 (sum_lists)\n"
   ]
  },
  {
   "cell_type": "markdown",
   "id": "49087d46-a895-4e2f-85f4-e1c03f2cabce",
   "metadata": {},
   "source": [
    "(b) für die Daten im Dictionary aus Aufgabe 2 (sum_dict)  "
   ]
  },
  {
   "cell_type": "markdown",
   "id": "998c14ec-1f57-47d5-852e-48384b37c6dc",
   "metadata": {},
   "source": [
    " Dieser Ausdruck soll wahr sein:   "
   ]
  },
  {
   "cell_type": "code",
   "execution_count": null,
   "id": "1d9c8fbf",
   "metadata": {},
   "outputs": [],
   "source": [
    "sum_lists(xs, ys) == sum_dict(data) == (88.05864783223778, 120.76800430133447)"
   ]
  },
  {
   "cell_type": "code",
   "execution_count": 23,
   "id": "2db6ca4b-8018-4768-82d5-dbfb478fa14a",
   "metadata": {},
   "outputs": [],
   "source": [
    "def sum_list(xs, ys):\n",
    "    return sum(xs), sum(ys)"
   ]
  },
  {
   "cell_type": "code",
   "execution_count": 25,
   "id": "60376600-c2c5-4e72-a14c-791f2d2f884d",
   "metadata": {},
   "outputs": [
    {
     "data": {
      "text/plain": [
       "(88.05864783223778, 120.76800430133447)"
      ]
     },
     "execution_count": 25,
     "metadata": {},
     "output_type": "execute_result"
    }
   ],
   "source": [
    "sum_list(xs, ys)"
   ]
  },
  {
   "cell_type": "code",
   "execution_count": 32,
   "id": "e99b2030-5c87-43c5-a349-7c3c0e49a5d5",
   "metadata": {},
   "outputs": [],
   "source": [
    "def sum_dict(data):\n",
    "    return sum(data['X']), sum(data['Y'])"
   ]
  },
  {
   "cell_type": "code",
   "execution_count": 34,
   "id": "90ffe252-c213-4b8e-9daa-f50c0c1d7873",
   "metadata": {},
   "outputs": [
    {
     "data": {
      "text/plain": [
       "(88.05864783223778, 120.76800430133447)"
      ]
     },
     "execution_count": 34,
     "metadata": {},
     "output_type": "execute_result"
    }
   ],
   "source": [
    "sum_dict(data)"
   ]
  },
  {
   "cell_type": "code",
   "execution_count": 35,
   "id": "40b9a6bc-3100-4808-8abc-0e3fcaf80c92",
   "metadata": {},
   "outputs": [],
   "source": [
    "def sum_dict2(data):\n",
    "    res = {}\n",
    "    for key, value in data.items():\n",
    "        res[key] = sum(value)\n",
    "    return res"
   ]
  },
  {
   "cell_type": "code",
   "execution_count": 38,
   "id": "15e3ad44-24fc-419f-b8df-b3d29862c4d1",
   "metadata": {},
   "outputs": [
    {
     "data": {
      "text/plain": [
       "{'X': 88.05864783223778, 'Y': 120.76800430133447}"
      ]
     },
     "execution_count": 38,
     "metadata": {},
     "output_type": "execute_result"
    }
   ],
   "source": [
    "sum_dict2(data)"
   ]
  },
  {
   "cell_type": "code",
   "execution_count": 40,
   "id": "fe3d561e-d874-4e29-99c7-e66aa783ca8b",
   "metadata": {},
   "outputs": [],
   "source": [
    "def sum_dict3(data):\n",
    "    return {key: sum(value) for key, value in data.items()}"
   ]
  },
  {
   "cell_type": "code",
   "execution_count": 41,
   "id": "ae5502a4-c2c2-459a-9ff4-c9386debdb95",
   "metadata": {},
   "outputs": [
    {
     "data": {
      "text/plain": [
       "{'X': 88.05864783223778, 'Y': 120.76800430133447}"
      ]
     },
     "execution_count": 41,
     "metadata": {},
     "output_type": "execute_result"
    }
   ],
   "source": [
    "sum_dict3(data)"
   ]
  },
  {
   "cell_type": "markdown",
   "id": "e628f54d",
   "metadata": {},
   "source": [
    "4. Speichern Sie alle Funktionen in einem Modul und importieren Sie einzelne\n",
    "   Funktionen in ein Notebook und rufen Sie diese auf.\n",
    "   \n",
    "   \n",
    "Alle Funktionen sollen \"schöne\" und \"vollständige\" Funktionen sein."
   ]
  },
  {
   "cell_type": "markdown",
   "id": "c2ec39f6-e80a-4f6a-af1d-a8e3a953a3fd",
   "metadata": {},
   "source": [
    "5. Schreiben Sie eine Klasse `Coord`, die Werte für `x` und `y` zum \n",
    "   Initialisierungszeitpunkt übernimmt und als Instanzattribute setzt.\n",
    "   Berechnen Sie den Abstand zum Nullpunkt (Quadratwurzel aus den Quadraten der beiden         \n",
    "   Koordinatenwerte) und setzen Sie diesen berechneten Wert als Attribut `dist`.\n",
    "   Erstellen Sie eine Instanz dieser Klasse mit den Werten `2` und `3` für `x`und `y`.\n",
    "   Der Wert für `dist` sollte ca. `3.6` betragen"
   ]
  },
  {
   "cell_type": "code",
   "execution_count": 51,
   "id": "293e1dba-3b55-4c9f-9783-f024d18f296f",
   "metadata": {},
   "outputs": [],
   "source": [
    "from math import sqrt\n",
    "\n",
    "\n",
    "class Coord:\n",
    "    \"\"\"Class for usage with x and y coordinates to calculate distances to 0,0 \"\"\"\n",
    "    x = 0\n",
    "    y = 0\n",
    "    dist = 0\n",
    "\n",
    "    def __init__(self, xin=0, yin=0):\n",
    "        \"\"\"Constructor which calculates the distance as well\"\"\"\n",
    "        self.x = xin\n",
    "        self.y = yin\n",
    "        self.dist = sqrt(xin**2 + yin**2)"
   ]
  },
  {
   "cell_type": "code",
   "execution_count": 56,
   "id": "be914dcd-b15b-44de-86f8-47b00519e175",
   "metadata": {},
   "outputs": [],
   "source": [
    "c = Coord()"
   ]
  },
  {
   "cell_type": "code",
   "execution_count": 57,
   "id": "bd1bfcd6-d85b-41d9-802d-b1d080f297ef",
   "metadata": {},
   "outputs": [
    {
     "data": {
      "text/plain": [
       "<__main__.Coord at 0x7f3cc2679820>"
      ]
     },
     "execution_count": 57,
     "metadata": {},
     "output_type": "execute_result"
    }
   ],
   "source": [
    "c"
   ]
  },
  {
   "cell_type": "code",
   "execution_count": 54,
   "id": "1d00ee4d-5d22-4340-94e6-b9e17cbf92af",
   "metadata": {},
   "outputs": [
    {
     "data": {
      "text/plain": [
       "0.0"
      ]
     },
     "execution_count": 54,
     "metadata": {},
     "output_type": "execute_result"
    }
   ],
   "source": [
    "c.dist"
   ]
  },
  {
   "cell_type": "code",
   "execution_count": 43,
   "id": "3e796f67-c645-4053-b734-9959195aff51",
   "metadata": {},
   "outputs": [],
   "source": [
    "coord = Coord(2, 3)"
   ]
  },
  {
   "cell_type": "code",
   "execution_count": 45,
   "id": "071b58da-b2ec-4187-afea-d5003244fb7f",
   "metadata": {},
   "outputs": [
    {
     "data": {
      "text/plain": [
       "2"
      ]
     },
     "execution_count": 45,
     "metadata": {},
     "output_type": "execute_result"
    }
   ],
   "source": [
    "coord.x"
   ]
  },
  {
   "cell_type": "code",
   "execution_count": 47,
   "id": "89e5a20f-479e-48ca-b2b6-c1bd03b2f893",
   "metadata": {},
   "outputs": [
    {
     "data": {
      "text/plain": [
       "3.605551275463989"
      ]
     },
     "execution_count": 47,
     "metadata": {},
     "output_type": "execute_result"
    }
   ],
   "source": [
    "coord.dist"
   ]
  },
  {
   "cell_type": "code",
   "execution_count": 58,
   "id": "d4c4a019-1ae7-444c-95cc-cd92e1e3ef4b",
   "metadata": {},
   "outputs": [
    {
     "data": {
      "text/plain": [
       "<__main__.Coord at 0x7f3cc271b4c0>"
      ]
     },
     "execution_count": 58,
     "metadata": {},
     "output_type": "execute_result"
    }
   ],
   "source": [
    "coord"
   ]
  },
  {
   "cell_type": "code",
   "execution_count": 49,
   "id": "89833ec0-529e-4b16-a3bd-35079955e40d",
   "metadata": {},
   "outputs": [],
   "source": [
    "import math"
   ]
  },
  {
   "cell_type": "code",
   "execution_count": 50,
   "id": "69aeb4b6-96da-44a2-b051-bd3a3735ed27",
   "metadata": {},
   "outputs": [
    {
     "data": {
      "text/plain": [
       "\u001b[0;31mDocstring:\u001b[0m\n",
       "hypot(*coordinates) -> value\n",
       "\n",
       "Multidimensional Euclidean distance from the origin to a point.\n",
       "\n",
       "Roughly equivalent to:\n",
       "    sqrt(sum(x**2 for x in coordinates))\n",
       "\n",
       "For a two dimensional point (x, y), gives the hypotenuse\n",
       "using the Pythagorean theorem:  sqrt(x*x + y*y).\n",
       "\n",
       "For example, the hypotenuse of a 3/4/5 right triangle is:\n",
       "\n",
       "    >>> hypot(3.0, 4.0)\n",
       "    5.0\n",
       "\u001b[0;31mType:\u001b[0m      builtin_function_or_method\n"
      ]
     },
     "metadata": {},
     "output_type": "display_data"
    }
   ],
   "source": [
    "math.hypot?"
   ]
  },
  {
   "cell_type": "markdown",
   "id": "2f7c4c29-54a1-424c-bbab-67e6704ea7ac",
   "metadata": {},
   "source": [
    "6. Fügen Sie Ihrer Klasse eine Funktion `__repr__` hinzu, die die\n",
    "   Repräsentation einer Instanz mit den Werten `x=2`, und `y=3` \n",
    "   so aussehen lassen: `Coord(2, 3)`"
   ]
  },
  {
   "cell_type": "code",
   "execution_count": 6,
   "id": "5193634b-aab4-4660-9208-273b6699ed52",
   "metadata": {},
   "outputs": [],
   "source": [
    "from math import hypot\n",
    "\n",
    "\n",
    "class Coord:\n",
    "    \"\"\"Class for usage with x and y coordinates to calculate distances to 0,0 \"\"\"\n",
    "\n",
    "\n",
    "    def __init__(self, x, y):\n",
    "        \"\"\"Constructor which calculates the distance as well\"\"\"\n",
    "        self.x = x\n",
    "        self.y = y\n",
    "        self.dist = hypot(x, x)\n",
    "        \n",
    "    def __repr__(self):\n",
    "        return f'Coord({self.x!r}, {self.y!r})'"
   ]
  },
  {
   "cell_type": "code",
   "execution_count": 9,
   "id": "2d31f0f7-a504-447e-b4b9-cc4e2627609b",
   "metadata": {},
   "outputs": [
    {
     "data": {
      "text/plain": [
       "Coord(2, 3)"
      ]
     },
     "execution_count": 9,
     "metadata": {},
     "output_type": "execute_result"
    }
   ],
   "source": [
    "Coord(2, 3)"
   ]
  },
  {
   "cell_type": "code",
   "execution_count": 10,
   "id": "d0af4455-3e95-4679-a99e-1f6049e7c51a",
   "metadata": {},
   "outputs": [],
   "source": [
    "class CoordChild(Coord):\n",
    "    pass"
   ]
  },
  {
   "cell_type": "code",
   "execution_count": 11,
   "id": "107f10f2-a0af-410d-911f-151aa019c7f5",
   "metadata": {},
   "outputs": [
    {
     "data": {
      "text/plain": [
       "Coord(2, 3)"
      ]
     },
     "execution_count": 11,
     "metadata": {},
     "output_type": "execute_result"
    }
   ],
   "source": [
    "CoordChild(2, 3)"
   ]
  },
  {
   "cell_type": "code",
   "execution_count": 13,
   "id": "83a6ab3f-542f-41de-b2a8-367969e37a8d",
   "metadata": {},
   "outputs": [],
   "source": [
    "class Coord:\n",
    "    \"\"\"Class for usage with x and y coordinates to calculate distances to 0,0 \"\"\"\n",
    "\n",
    "\n",
    "    def __init__(self, x, y):\n",
    "        \"\"\"Constructor which calculates the distance as well\"\"\"\n",
    "        self.x = x\n",
    "        self.y = y\n",
    "        self.dist = hypot(x, x)\n",
    "        \n",
    "    def __repr__(self):\n",
    "        return f'{self.__class__.__name__}({self.x!r}, {self.y!r})'"
   ]
  },
  {
   "cell_type": "code",
   "execution_count": 14,
   "id": "9a5b2df2-989a-40ce-99fe-bd27b4164bdd",
   "metadata": {},
   "outputs": [],
   "source": [
    "class CoordChild(Coord):\n",
    "    pass"
   ]
  },
  {
   "cell_type": "code",
   "execution_count": 15,
   "id": "a185fdce-ddc5-44f9-9469-d6bcd47ba451",
   "metadata": {},
   "outputs": [
    {
     "data": {
      "text/plain": [
       "CoordChild(2, 3)"
      ]
     },
     "execution_count": 15,
     "metadata": {},
     "output_type": "execute_result"
    }
   ],
   "source": [
    "CoordChild(2, 3)"
   ]
  },
  {
   "cell_type": "markdown",
   "id": "21ba09bb-1a0d-4527-8aab-409a391cedda",
   "metadata": {},
   "source": [
    "7. Erzeugen Sie ein Liste von Instanzen von `Coord`.\n",
    "   Nutzen Sie dazu die aus der Datei eingelesenen Werte Koordinaten. "
   ]
  },
  {
   "cell_type": "markdown",
   "id": "e319421d-ecfe-45a8-b913-3d0b67027142",
   "metadata": {},
   "source": [
    "8. Fügen Sie Ihrer Klasse ein Methode `__add__` hinzu, \n",
    "   so dass dieses Ergebnis entsteht:"
   ]
  },
  {
   "cell_type": "code",
   "execution_count": 16,
   "id": "44fb6305-4fbf-45f2-9e18-1a48a3e989eb",
   "metadata": {},
   "outputs": [
    {
     "ename": "TypeError",
     "evalue": "unsupported operand type(s) for +: 'Coord' and 'Coord'",
     "output_type": "error",
     "traceback": [
      "\u001b[0;31m---------------------------------------------------------------------------\u001b[0m",
      "\u001b[0;31mTypeError\u001b[0m                                 Traceback (most recent call last)",
      "\u001b[0;32m/tmp/ipykernel_329700/4006411628.py\u001b[0m in \u001b[0;36m<module>\u001b[0;34m\u001b[0m\n\u001b[1;32m      1\u001b[0m \u001b[0mcoord1\u001b[0m \u001b[0;34m=\u001b[0m \u001b[0mCoord\u001b[0m\u001b[0;34m(\u001b[0m\u001b[0;36m2\u001b[0m\u001b[0;34m,\u001b[0m \u001b[0;36m3\u001b[0m\u001b[0;34m)\u001b[0m\u001b[0;34m\u001b[0m\u001b[0;34m\u001b[0m\u001b[0m\n\u001b[1;32m      2\u001b[0m \u001b[0mcoord2\u001b[0m \u001b[0;34m=\u001b[0m \u001b[0mCoord\u001b[0m\u001b[0;34m(\u001b[0m\u001b[0;36m7\u001b[0m\u001b[0;34m,\u001b[0m \u001b[0;36m2\u001b[0m\u001b[0;34m)\u001b[0m\u001b[0;34m\u001b[0m\u001b[0;34m\u001b[0m\u001b[0m\n\u001b[0;32m----> 3\u001b[0;31m \u001b[0mcoord1\u001b[0m \u001b[0;34m+\u001b[0m \u001b[0mcoord2\u001b[0m\u001b[0;34m\u001b[0m\u001b[0;34m\u001b[0m\u001b[0m\n\u001b[0m",
      "\u001b[0;31mTypeError\u001b[0m: unsupported operand type(s) for +: 'Coord' and 'Coord'"
     ]
    }
   ],
   "source": [
    "coord1 = Coord(2, 3)\n",
    "coord2 = Coord(7, 2)\n",
    "coord1 + coord2from math import sqrt\n",
    "\n",
    "\n",
    "class Coord:\n",
    "    \"\"\"Class for usage with x and y coordinates to calculate distances to 0,0 \"\"\"\n",
    "    x = 0\n",
    "    y = 0\n",
    "    dist = 0\n",
    "\n",
    "    def __init__(self, xin, yin):\n",
    "        \"\"\"Constructor which calculates the distance as well\"\"\"\n",
    "        self.x = xin\n",
    "        self.y = yin\n",
    "        self.dist = sqrt(xin**2 + yin**2)\n",
    "\n",
    "    def __repr__(self):\n",
    "        \"\"\"String representation showing x and y\"\"\"\n",
    "        return f\"Coord({self.x}, {self.y})\"\n",
    "\n",
    "    def __add__(self, target):\n",
    "        \"\"\"Addition by adding values of x and y of both objects if both are\n",
    "        Coord else add target to self\"\"\"\n",
    "        if type(target) == type(self):\n",
    "            return Coord(self.x + target.x, self.y + target.y)\n",
    "        else:\n",
    "            return Coord(self.x + target, self.y + target)"
   ]
  },
  {
   "cell_type": "code",
   "execution_count": 17,
   "id": "c292227d-2589-406e-a71f-515ff972a017",
   "metadata": {},
   "outputs": [],
   "source": [
    "from math import sqrt\n",
    "\n",
    "\n",
    "class Coord:\n",
    "    \"\"\"Class for usage with x and y coordinates to calculate distances to 0,0 \"\"\"\n",
    "\n",
    "    def __init__(self, xin, yin):\n",
    "        \"\"\"Constructor which calculates the distance as well\"\"\"\n",
    "        self.x = xin\n",
    "        self.y = yin\n",
    "        self.dist = sqrt(xin**2 + yin**2)\n",
    "\n",
    "    def __repr__(self):\n",
    "        \"\"\"String representation showing x and y\"\"\"\n",
    "        return f\"Coord({self.x}, {self.y})\"\n",
    "\n",
    "    def __add__(self, target):\n",
    "        \"\"\"Addition by adding values of x and y of both objects if both are\n",
    "        Coord else add target to self\"\"\"\n",
    "        if type(target) == type(self):\n",
    "            return Coord(self.x + target.x, self.y + target.y)\n",
    "        else:\n",
    "            return Coord(self.x + target, self.y + target)"
   ]
  },
  {
   "cell_type": "code",
   "execution_count": 18,
   "id": "d5119e22-80ac-4811-ba5e-2616f810ad82",
   "metadata": {},
   "outputs": [],
   "source": [
    "c1 = Coord(1, 2)\n",
    "c2 = Coord(4, 5)"
   ]
  },
  {
   "cell_type": "code",
   "execution_count": 19,
   "id": "7aa7a124-2a2c-4ff5-8b0d-d7a93fc79119",
   "metadata": {},
   "outputs": [
    {
     "data": {
      "text/plain": [
       "Coord(5, 7)"
      ]
     },
     "execution_count": 19,
     "metadata": {},
     "output_type": "execute_result"
    }
   ],
   "source": [
    "c1 + c2"
   ]
  },
  {
   "cell_type": "code",
   "execution_count": 20,
   "id": "2aca2413-945f-44ca-9407-8f505ac6668f",
   "metadata": {},
   "outputs": [
    {
     "data": {
      "text/plain": [
       "Coord(101, 102)"
      ]
     },
     "execution_count": 20,
     "metadata": {},
     "output_type": "execute_result"
    }
   ],
   "source": [
    "c1 + 100"
   ]
  },
  {
   "cell_type": "code",
   "execution_count": 21,
   "id": "ee2ed139-e703-4dcf-bb09-5607b4db3c46",
   "metadata": {},
   "outputs": [],
   "source": [
    "class CoordChild(Coord):\n",
    "    pass"
   ]
  },
  {
   "cell_type": "code",
   "execution_count": 22,
   "id": "40098dc2-7d06-4226-be0f-60f231465ead",
   "metadata": {},
   "outputs": [],
   "source": [
    "cc1 = CoordChild(3, 4)"
   ]
  },
  {
   "cell_type": "code",
   "execution_count": 23,
   "id": "1996acf9-f689-4f1e-9cea-71551d8da2e0",
   "metadata": {},
   "outputs": [
    {
     "ename": "TypeError",
     "evalue": "unsupported operand type(s) for +: 'int' and 'CoordChild'",
     "output_type": "error",
     "traceback": [
      "\u001b[0;31m---------------------------------------------------------------------------\u001b[0m",
      "\u001b[0;31mTypeError\u001b[0m                                 Traceback (most recent call last)",
      "\u001b[0;32m/tmp/ipykernel_329700/596158639.py\u001b[0m in \u001b[0;36m<module>\u001b[0;34m\u001b[0m\n\u001b[0;32m----> 1\u001b[0;31m \u001b[0mc1\u001b[0m \u001b[0;34m+\u001b[0m \u001b[0mcc1\u001b[0m\u001b[0;34m\u001b[0m\u001b[0;34m\u001b[0m\u001b[0m\n\u001b[0m",
      "\u001b[0;32m/tmp/ipykernel_329700/2429863352.py\u001b[0m in \u001b[0;36m__add__\u001b[0;34m(self, target)\u001b[0m\n\u001b[1;32m     21\u001b[0m             \u001b[0;32mreturn\u001b[0m \u001b[0mCoord\u001b[0m\u001b[0;34m(\u001b[0m\u001b[0mself\u001b[0m\u001b[0;34m.\u001b[0m\u001b[0mx\u001b[0m \u001b[0;34m+\u001b[0m \u001b[0mtarget\u001b[0m\u001b[0;34m.\u001b[0m\u001b[0mx\u001b[0m\u001b[0;34m,\u001b[0m \u001b[0mself\u001b[0m\u001b[0;34m.\u001b[0m\u001b[0my\u001b[0m \u001b[0;34m+\u001b[0m \u001b[0mtarget\u001b[0m\u001b[0;34m.\u001b[0m\u001b[0my\u001b[0m\u001b[0;34m)\u001b[0m\u001b[0;34m\u001b[0m\u001b[0;34m\u001b[0m\u001b[0m\n\u001b[1;32m     22\u001b[0m         \u001b[0;32melse\u001b[0m\u001b[0;34m:\u001b[0m\u001b[0;34m\u001b[0m\u001b[0;34m\u001b[0m\u001b[0m\n\u001b[0;32m---> 23\u001b[0;31m             \u001b[0;32mreturn\u001b[0m \u001b[0mCoord\u001b[0m\u001b[0;34m(\u001b[0m\u001b[0mself\u001b[0m\u001b[0;34m.\u001b[0m\u001b[0mx\u001b[0m \u001b[0;34m+\u001b[0m \u001b[0mtarget\u001b[0m\u001b[0;34m,\u001b[0m \u001b[0mself\u001b[0m\u001b[0;34m.\u001b[0m\u001b[0my\u001b[0m \u001b[0;34m+\u001b[0m \u001b[0mtarget\u001b[0m\u001b[0;34m)\u001b[0m\u001b[0;34m\u001b[0m\u001b[0;34m\u001b[0m\u001b[0m\n\u001b[0m",
      "\u001b[0;31mTypeError\u001b[0m: unsupported operand type(s) for +: 'int' and 'CoordChild'"
     ]
    }
   ],
   "source": [
    "c1 + cc1"
   ]
  },
  {
   "cell_type": "code",
   "execution_count": 47,
   "id": "ca6ff7b2-a73c-454a-8af1-748729ce428e",
   "metadata": {},
   "outputs": [],
   "source": [
    "\n",
    "class Coord:\n",
    "    \"\"\"Class for usage with x and y coordinates to calculate distances to 0,0 \"\"\"\n",
    "\n",
    "    def __init__(self, xin, yin):\n",
    "        \"\"\"Constructor which calculates the distance as well\"\"\"\n",
    "        self.x = xin\n",
    "        self.y = yin\n",
    "        self.dist = sqrt(xin**2 + yin**2)\n",
    "\n",
    "    def __repr__(self):\n",
    "        \"\"\"String representation showing x and y\"\"\"\n",
    "        return f\"Coord({self.x}, {self.y})\"\n",
    "\n",
    "    def __add__(self, target):\n",
    "        \"\"\"Addition by adding values of x and y of both objects if both are\n",
    "        Coord else add target to self\"\"\"\n",
    "        if isinstance(target, self.__class__) or isinstance(self, target.__class__):\n",
    "            return Coord(self.x + target.x, self.y + target.y)\n",
    "        else:\n",
    "            return Coord(self.x + target, self.y + target)"
   ]
  },
  {
   "cell_type": "code",
   "execution_count": 48,
   "id": "d782e094-6e19-4a7a-9b96-e04d0fe07a27",
   "metadata": {},
   "outputs": [],
   "source": [
    "class CoordChild(Coord):\n",
    "    pass"
   ]
  },
  {
   "cell_type": "code",
   "execution_count": 49,
   "id": "10dca481-b161-4749-8178-00aa5db924a7",
   "metadata": {},
   "outputs": [],
   "source": [
    "c1 = Coord(10, 20)\n",
    "cc1 = CoordChild(3, 4)"
   ]
  },
  {
   "cell_type": "code",
   "execution_count": 50,
   "id": "0d945800-4e85-4eb8-9e5d-87b07f0c56e9",
   "metadata": {},
   "outputs": [
    {
     "data": {
      "text/plain": [
       "Coord(13, 24)"
      ]
     },
     "execution_count": 50,
     "metadata": {},
     "output_type": "execute_result"
    }
   ],
   "source": [
    "c1 + cc1"
   ]
  },
  {
   "cell_type": "code",
   "execution_count": 51,
   "id": "268766c2-e52b-4760-9e47-2426d670c69d",
   "metadata": {},
   "outputs": [
    {
     "data": {
      "text/plain": [
       "Coord(13, 24)"
      ]
     },
     "execution_count": 51,
     "metadata": {},
     "output_type": "execute_result"
    }
   ],
   "source": [
    "cc1 + c1"
   ]
  },
  {
   "cell_type": "code",
   "execution_count": null,
   "id": "0b94b1f7-b7e0-4957-af07-1c10cfc00af9",
   "metadata": {},
   "outputs": [],
   "source": []
  },
  {
   "cell_type": "code",
   "execution_count": 52,
   "id": "e9028e8e-b821-40a6-b768-3d66889c106d",
   "metadata": {},
   "outputs": [],
   "source": [
    "\n",
    "class Coord:\n",
    "    \"\"\"Class for usage with x and y coordinates to calculate distances to 0,0 \"\"\"\n",
    "\n",
    "    def __init__(self, xin, yin):\n",
    "        \"\"\"Constructor which calculates the distance as well\"\"\"\n",
    "        self.x = xin\n",
    "        self.y = yin\n",
    "        self.dist = sqrt(xin**2 + yin**2)\n",
    "\n",
    "    def __repr__(self):\n",
    "        \"\"\"String representation showing x and y\"\"\"\n",
    "        return f\"Coord({self.x}, {self.y})\"\n",
    "\n",
    "    def __add__(self, target):\n",
    "        \"\"\"Addition by adding values of x and y of both objects if both are\n",
    "        Coord else add target to self\"\"\"\n",
    "        return Coord(self.x + target.x, self.y + target.y)"
   ]
  },
  {
   "cell_type": "code",
   "execution_count": 53,
   "id": "ffd53daf-b289-4836-9626-bb7af9ee9bbe",
   "metadata": {},
   "outputs": [
    {
     "data": {
      "text/plain": [
       "<function sum(iterable, /, start=0)>"
      ]
     },
     "execution_count": 53,
     "metadata": {},
     "output_type": "execute_result"
    }
   ],
   "source": [
    "sum"
   ]
  },
  {
   "cell_type": "code",
   "execution_count": null,
   "id": "1e0ecac4-b242-4fa8-9c6d-7e7ff87f8687",
   "metadata": {},
   "outputs": [],
   "source": []
  }
 ],
 "metadata": {
  "kernelspec": {
   "display_name": "Python 3 (ipykernel)",
   "language": "python",
   "name": "python3"
  },
  "language_info": {
   "codemirror_mode": {
    "name": "ipython",
    "version": 3
   },
   "file_extension": ".py",
   "mimetype": "text/x-python",
   "name": "python",
   "nbconvert_exporter": "python",
   "pygments_lexer": "ipython3",
   "version": "3.9.9"
  }
 },
 "nbformat": 4,
 "nbformat_minor": 5
}
